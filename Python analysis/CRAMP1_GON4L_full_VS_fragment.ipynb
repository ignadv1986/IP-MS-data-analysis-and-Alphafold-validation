{
  "nbformat": 4,
  "nbformat_minor": 0,
  "metadata": {
    "colab": {
      "provenance": [],
      "authorship_tag": "ABX9TyPmPPyC8f2uS6oxaA1AF0d7",
      "include_colab_link": true
    },
    "kernelspec": {
      "name": "python3",
      "display_name": "Python 3"
    },
    "language_info": {
      "name": "python"
    }
  },
  "cells": [
    {
      "cell_type": "markdown",
      "metadata": {
        "id": "view-in-github",
        "colab_type": "text"
      },
      "source": [
        "<a href=\"https://colab.research.google.com/github/ignadv1986/IP-MS-data-analysis-and-Alphafold-validation/blob/main/CRAMP1_GON4L_full_VS_fragment.ipynb\" target=\"_parent\"><img src=\"https://colab.research.google.com/assets/colab-badge.svg\" alt=\"Open In Colab\"/></a>"
      ]
    },
    {
      "cell_type": "code",
      "source": [
        "#Opening the file and checking the column names\n",
        "import json\n",
        "\n",
        "with open(\"cramp1_gon4l_full.json\") as f:\n",
        "    data = json.load(f)\n",
        "\n",
        "# Show top-level keys\n",
        "print(\"Top-level keys in JSON:\")\n",
        "print(data.keys())\n"
      ],
      "metadata": {
        "colab": {
          "base_uri": "https://localhost:8080/"
        },
        "id": "2ED-aIhvJq_U",
        "outputId": "cf5bc081-77cd-4c83-fdca-6a22874dd304"
      },
      "execution_count": 1,
      "outputs": [
        {
          "output_type": "stream",
          "name": "stdout",
          "text": [
            "Top-level keys in JSON:\n",
            "dict_keys(['atom_chain_ids', 'atom_plddts', 'contact_probs', 'pae', 'token_chain_ids', 'token_res_ids'])\n"
          ]
        }
      ]
    },
    {
      "cell_type": "code",
      "source": [
        "import json\n",
        "import numpy as np\n",
        "import pandas as pd\n",
        "\n",
        "def get_residue_plddt_stats(json_path):\n",
        "    with open(json_path) as f:\n",
        "        data = json.load(f)\n",
        "\n",
        "    plddts = data[\"atom_plddts\"]\n",
        "    res_ids = data[\"token_res_ids\"]\n",
        "    chain_ids = data[\"token_chain_ids\"]\n",
        "\n",
        "    if len(plddts) != len(res_ids):\n",
        "        print(f\"⚠️ Length mismatch in {json_path}: {len(plddts)} pLDDTs vs {len(res_ids)} residues\")\n",
        "        plddts = plddts[:len(res_ids)]\n",
        "\n",
        "    # Build (residue_id, chain_id) → pLDDT\n",
        "    residue_plddt = {}\n",
        "    for i in range(len(plddts)):\n",
        "        key = (res_ids[i], chain_ids[i])\n",
        "        residue_plddt[key] = plddts[i]\n",
        "\n",
        "    scores = list(residue_plddt.values())\n",
        "    mean_score = np.mean(scores)\n",
        "    perc_above_70 = np.sum(np.array(scores) > 70) / len(scores) * 100\n",
        "\n",
        "    return mean_score, perc_above_70, len(scores)\n",
        "\n",
        "# Run for both files\n",
        "full_mean, full_above70, full_total = get_residue_plddt_stats(\"cramp1_gon4l_full.json\")\n",
        "frag_mean, frag_above70, frag_total = get_residue_plddt_stats(\"cramp1_gon4l_fragment.json\")\n",
        "\n",
        "# Store in DataFrame\n",
        "summary_df = pd.DataFrame({\n",
        "    \"Model\": [\"Full Model\", \"Fragment Model\"],\n",
        "    \"Total Residues\": [full_total, frag_total],\n",
        "    \"Mean pLDDT\": [full_mean, frag_mean],\n",
        "    \"% Residues >70\": [full_above70, frag_above70]\n",
        "})\n",
        "\n",
        "# Save to CSV\n",
        "summary_df.to_csv(\"plddt_summary_corrected.csv\", index=False)\n"
      ],
      "metadata": {
        "colab": {
          "base_uri": "https://localhost:8080/"
        },
        "id": "IbzbC9JF0WKo",
        "outputId": "fe7a08df-8643-4409-feeb-0e3562560d0c"
      },
      "execution_count": 7,
      "outputs": [
        {
          "output_type": "stream",
          "name": "stdout",
          "text": [
            "⚠️ Length mismatch in cramp1_gon4l_full.json: 26894 pLDDTs vs 3510 residues\n",
            "⚠️ Length mismatch in cramp1_gon4l_fragment.json: 8208 pLDDTs vs 1070 residues\n",
            "            Model  Total Residues  Mean pLDDT  % Residues >70\n",
            "0      Full Model            3510   56.530883       38.774929\n",
            "1  Fragment Model            1070   72.311963       63.457944\n"
          ]
        }
      ]
    }
  ]
}
